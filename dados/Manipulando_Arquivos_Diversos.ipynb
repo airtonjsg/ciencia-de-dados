{
 "cells": [
  {
   "cell_type": "markdown",
   "metadata": {
    "id": "mZVCagpZvZfE"
   },
   "source": [
    "# <div align=\"center\"><font color='BLUE'>Cientista de Dados na Prática</font></div>\n",
    "![alt text](./ds.png)"
   ]
  },
  {
   "cell_type": "markdown",
   "metadata": {
    "id": "7oiQVQi0AJ6D"
   },
   "source": [
    "# <div align=\"center\"><font color='GREEN'>Módulo Análise Exploratória de Dados</font></div>\n",
    "\n",
    "# <font color='GREY'> Manipulando Arquivos Diversos </font>\n",
    "\n"
   ]
  },
  {
   "cell_type": "markdown",
   "metadata": {
    "id": "PzoISo_6OzHg"
   },
   "source": [
    "# 1° Lendo arquivos de Imagens"
   ]
  },
  {
   "cell_type": "code",
   "execution_count": 13,
   "metadata": {
    "id": "hh4MsIIKLXoF"
   },
   "outputs": [
    {
     "ename": "NameError",
     "evalue": "name 'pb' is not defined",
     "output_type": "error",
     "traceback": [
      "\u001b[1;31m---------------------------------------------------------------------------\u001b[0m",
      "\u001b[1;31mNameError\u001b[0m                                 Traceback (most recent call last)",
      "Cell \u001b[1;32mIn[13], line 4\u001b[0m\n\u001b[0;32m      2\u001b[0m \u001b[38;5;28;01mfrom\u001b[39;00m \u001b[38;5;21;01mPIL\u001b[39;00m \u001b[38;5;28;01mimport\u001b[39;00m Image\n\u001b[0;32m      3\u001b[0m get_ipython()\u001b[38;5;241m.\u001b[39mrun_line_magic(\u001b[38;5;124m'\u001b[39m\u001b[38;5;124mmatplotlib\u001b[39m\u001b[38;5;124m'\u001b[39m, \u001b[38;5;124m'\u001b[39m\u001b[38;5;124minline\u001b[39m\u001b[38;5;124m'\u001b[39m)\n\u001b[1;32m----> 4\u001b[0m img \u001b[38;5;241m=\u001b[39m Image\u001b[38;5;241m.\u001b[39mopen(\u001b[43mpb\u001b[49m\u001b[38;5;241m.\u001b[39mjpg)\n\u001b[0;32m      5\u001b[0m img\u001b[38;5;241m.\u001b[39mshow()\n\u001b[0;32m      6\u001b[0m img\n",
      "\u001b[1;31mNameError\u001b[0m: name 'pb' is not defined"
     ]
    }
   ],
   "source": [
    "# Imagem\n",
    "from PIL import Image\n",
    "%matplotlib inline\n",
    "img = Image.open(pb.jpg)\n",
    "img.show()\n",
    "img"
   ]
  },
  {
   "cell_type": "markdown",
   "metadata": {
    "id": "Jwfs4IE_O3sz"
   },
   "source": [
    "# 2° Lendo arquivos de Vídeo indexados na WEB"
   ]
  },
  {
   "cell_type": "code",
   "execution_count": null,
   "metadata": {
    "id": "60mo2o8_LZQo"
   },
   "outputs": [],
   "source": [
    "#Vídeo\n",
    "from IPython.core.display import HTML\n",
    "\n",
    "HTML('<iframe width=\"380\" height=\"200\" src=\"https://www.youtube.com/embed/c4wDGK9eUyc\" frameborder=\"0\" allow=\"accelerometer; autoplay; clipboard-write; encrypted-media; gyroscope; picture-in-picture\" allowfullscreen></iframe>')"
   ]
  },
  {
   "cell_type": "markdown",
   "metadata": {
    "id": "e_5VX6xxO9ls"
   },
   "source": [
    "# 3° Manipulando arquivo ZIP"
   ]
  },
  {
   "cell_type": "code",
   "execution_count": 67,
   "metadata": {
    "colab": {
     "base_uri": "https://localhost:8080/",
     "height": 52
    },
    "id": "EQsXDiG087qh",
    "outputId": "a20fcf7d-990f-4ba5-ad96-6145144ca37e"
   },
   "outputs": [
    {
     "name": "stdout",
     "output_type": "stream",
     "text": [
      "File Name                                             Modified             Size\n",
      "Inscritos_P__s_LS.csv                          2020-10-09 08:28:10         7028\n"
     ]
    }
   ],
   "source": [
    "# Arquivo Zip\n",
    "from zipfile import ZipFile\n",
    "\n",
    "# path to the zipfile\n",
    "file = '/content/Inscritos_P__s_LS.zip'\n",
    "\n",
    "# read zipfile and extract contents\n",
    "with ZipFile (file, 'r') as zip:\n",
    "    zip.printdir()\n",
    "    zip.extractall()"
   ]
  },
  {
   "cell_type": "markdown",
   "metadata": {
    "id": "NavA-fdTPF7g"
   },
   "source": [
    "## 4° Manipulando arquivos separados por vírgula CSV"
   ]
  },
  {
   "cell_type": "code",
   "execution_count": null,
   "metadata": {
    "id": "2v5e-Yvb9Wyb"
   },
   "outputs": [],
   "source": [
    "#Arquivo CSV\n",
    "import pandas as pd\n",
    "df = pd.read_csv('/content/Inscritos_P__s_LS.csv')\n",
    "df"
   ]
  },
  {
   "cell_type": "markdown",
   "metadata": {
    "id": "iA5uqreDPRYT"
   },
   "source": [
    "## 5° Manipulando arquivos em texto TXT"
   ]
  },
  {
   "cell_type": "code",
   "execution_count": null,
   "metadata": {
    "id": "zAU8LHY0-cQS"
   },
   "outputs": [],
   "source": [
    "# Arquivo TXT\n",
    "with open(r'/content/arquivo_texto.txt','r') as arquivo:\n",
    "    print(arquivo.read())"
   ]
  },
  {
   "cell_type": "markdown",
   "metadata": {
    "id": "-sEb5ajFPXWF"
   },
   "source": [
    "# 6° Manipulando arquivos Excel"
   ]
  },
  {
   "cell_type": "code",
   "execution_count": null,
   "metadata": {
    "id": "PpQ4K-IM_KDl"
   },
   "outputs": [],
   "source": [
    "# Arquivo Excel\n",
    "df = pd.read_excel(r'/content/Cronograma do CDP.xlsx')\n",
    "# print values\n",
    "df"
   ]
  },
  {
   "cell_type": "code",
   "execution_count": 78,
   "metadata": {
    "colab": {
     "base_uri": "https://localhost:8080/",
     "height": 34
    },
    "id": "cHZb7pIs_qIe",
    "outputId": "d1c59433-65d8-40b4-ffa8-e17c0f4a6b6b"
   },
   "outputs": [
    {
     "data": {
      "text/plain": [
       "['Interno', 'Aluno']"
      ]
     },
     "execution_count": 78,
     "metadata": {
      "tags": []
     },
     "output_type": "execute_result"
    }
   ],
   "source": [
    "# Lendo as sheets do Excel\n",
    "xl = pd.ExcelFile(r'/content/Cronograma do CDP.xlsx')\n",
    "\n",
    "# print sheet name\n",
    "xl.sheet_names"
   ]
  },
  {
   "cell_type": "code",
   "execution_count": 79,
   "metadata": {
    "colab": {
     "base_uri": "https://localhost:8080/",
     "height": 327
    },
    "id": "PbVZryBU_wR9",
    "outputId": "3e866a1b-25a9-4157-d6d9-ded59e22d855"
   },
   "outputs": [
    {
     "data": {
      "text/html": [
       "<div>\n",
       "<style scoped>\n",
       "    .dataframe tbody tr th:only-of-type {\n",
       "        vertical-align: middle;\n",
       "    }\n",
       "\n",
       "    .dataframe tbody tr th {\n",
       "        vertical-align: top;\n",
       "    }\n",
       "\n",
       "    .dataframe thead th {\n",
       "        text-align: right;\n",
       "    }\n",
       "</style>\n",
       "<table border=\"1\" class=\"dataframe\">\n",
       "  <thead>\n",
       "    <tr style=\"text-align: right;\">\n",
       "      <th></th>\n",
       "      <th>CIENTISTA DE DADOS NA PRÁTICA</th>\n",
       "      <th>Unnamed: 1</th>\n",
       "    </tr>\n",
       "  </thead>\n",
       "  <tbody>\n",
       "    <tr>\n",
       "      <th>0</th>\n",
       "      <td>Módulos</td>\n",
       "      <td>Data da Disponibilização</td>\n",
       "    </tr>\n",
       "    <tr>\n",
       "      <th>1</th>\n",
       "      <td>Módulo 1</td>\n",
       "      <td>Disponibilizado</td>\n",
       "    </tr>\n",
       "    <tr>\n",
       "      <th>2</th>\n",
       "      <td>Módulo 2</td>\n",
       "      <td>Disponibilizado</td>\n",
       "    </tr>\n",
       "    <tr>\n",
       "      <th>3</th>\n",
       "      <td>Módulo 3</td>\n",
       "      <td>2020-10-01 00:00:00</td>\n",
       "    </tr>\n",
       "    <tr>\n",
       "      <th>4</th>\n",
       "      <td>Módulo 4</td>\n",
       "      <td>2020-10-08 00:00:00</td>\n",
       "    </tr>\n",
       "    <tr>\n",
       "      <th>5</th>\n",
       "      <td>Módulo 5</td>\n",
       "      <td>2020-10-15 00:00:00</td>\n",
       "    </tr>\n",
       "    <tr>\n",
       "      <th>6</th>\n",
       "      <td>Módulo 6</td>\n",
       "      <td>2020-10-22 00:00:00</td>\n",
       "    </tr>\n",
       "    <tr>\n",
       "      <th>7</th>\n",
       "      <td>Módulo 7</td>\n",
       "      <td>2020-10-29 00:00:00</td>\n",
       "    </tr>\n",
       "    <tr>\n",
       "      <th>8</th>\n",
       "      <td>Bônus</td>\n",
       "      <td>2020-11-05 00:00:00</td>\n",
       "    </tr>\n",
       "  </tbody>\n",
       "</table>\n",
       "</div>"
      ],
      "text/plain": [
       "  CIENTISTA DE DADOS NA PRÁTICA                Unnamed: 1\n",
       "0                       Módulos  Data da Disponibilização\n",
       "1                      Módulo 1           Disponibilizado\n",
       "2                      Módulo 2           Disponibilizado\n",
       "3                      Módulo 3       2020-10-01 00:00:00\n",
       "4                      Módulo 4       2020-10-08 00:00:00\n",
       "5                      Módulo 5       2020-10-15 00:00:00\n",
       "6                      Módulo 6       2020-10-22 00:00:00\n",
       "7                      Módulo 7       2020-10-29 00:00:00\n",
       "8                         Bônus       2020-11-05 00:00:00"
      ]
     },
     "execution_count": 79,
     "metadata": {
      "tags": []
     },
     "output_type": "execute_result"
    }
   ],
   "source": [
    "# Abrindo a sheets específica\n",
    "df = pd.read_excel(r'/content/Cronograma do CDP.xlsx', sheet_name='Aluno')\n",
    "df"
   ]
  },
  {
   "cell_type": "markdown",
   "metadata": {
    "id": "kDbDXqxMPgL-"
   },
   "source": [
    "# 7° Manipulando arquivos em Banco de Dados SQLite"
   ]
  },
  {
   "cell_type": "code",
   "execution_count": 86,
   "metadata": {
    "id": "b0j8Y0Qz_64i"
   },
   "outputs": [],
   "source": [
    "# Acessando dados do Banco de Dados\n",
    "import pandas as pd\n",
    "import sqlite3\n",
    "\n",
    "# open engine connection\n",
    "con= sqlite3.connect('/content/escola.db')\n",
    "\n",
    "# create a cursor object\n",
    "cur = con.cursor()"
   ]
  },
  {
   "cell_type": "code",
   "execution_count": 90,
   "metadata": {
    "id": "fhh4sh6PACV6"
   },
   "outputs": [],
   "source": [
    "# Criar uma Consulta: Query\n",
    "Query = cur.execute('select * from cursos')"
   ]
  },
  {
   "cell_type": "code",
   "execution_count": null,
   "metadata": {
    "id": "gnoxPQz9ALdb"
   },
   "outputs": [],
   "source": [
    "# Save results of the query to DataFrame: df\n",
    "df = pd.DataFrame(Query.fetchall(), columns=['ID','NM','LABEL'])\n",
    "\n",
    "# Close connection\n",
    "con.commit()\n",
    "\n",
    "# Print head of DataFrame df\n",
    "df"
   ]
  },
  {
   "cell_type": "markdown",
   "metadata": {
    "id": "hsx8JlpLPnGg"
   },
   "source": [
    "## 8° Manipulando arquivos JSON"
   ]
  },
  {
   "cell_type": "code",
   "execution_count": 92,
   "metadata": {
    "id": "EB2RCCMlCMsR"
   },
   "outputs": [],
   "source": [
    "# manipulando arquivos JSON\n",
    "import json\n",
    "\n",
    "# open json file\n",
    "with open('/content/JSON','r') as file:\n",
    "    data = json.load(file)\n"
   ]
  },
  {
   "cell_type": "code",
   "execution_count": 93,
   "metadata": {
    "colab": {
     "base_uri": "https://localhost:8080/",
     "height": 34
    },
    "id": "3JYnqU22CLul",
    "outputId": "8caa0f2e-721f-462d-aaf1-7b48b6cd280e"
   },
   "outputs": [
    {
     "name": "stdout",
     "output_type": "stream",
     "text": [
      "<class 'list'>\n"
     ]
    }
   ],
   "source": [
    "# json dictionary\n",
    "print(type(data))"
   ]
  },
  {
   "cell_type": "code",
   "execution_count": null,
   "metadata": {
    "id": "Wnip9Tp_DwVM"
   },
   "outputs": [],
   "source": [
    "# Transformando em DataFrame\n",
    "df_json = pd.DataFrame(data)\n",
    "df_json"
   ]
  },
  {
   "cell_type": "code",
   "execution_count": null,
   "metadata": {
    "id": "af1PO9QjEqZp"
   },
   "outputs": [],
   "source": [
    "# Lendo o JSON diretamente do PANDAS\n",
    "arquivo = '/content/JSON'\n",
    "df = pd.read_json(arquivo)\n",
    "df"
   ]
  },
  {
   "cell_type": "markdown",
   "metadata": {
    "id": "XTRc7NjBKG65"
   },
   "source": [
    "# Fim"
   ]
  },
  {
   "cell_type": "markdown",
   "metadata": {
    "id": "_fHqFSvWe94c"
   },
   "source": [
    "## Valeu!"
   ]
  }
 ],
 "metadata": {
  "colab": {
   "collapsed_sections": [
    "Jwfs4IE_O3sz",
    "hsx8JlpLPnGg"
   ],
   "name": "M4 - Manipulando Arquivos Diversos.ipynb",
   "provenance": []
  },
  "kernelspec": {
   "display_name": "Python 3 (ipykernel)",
   "language": "python",
   "name": "python3"
  },
  "language_info": {
   "codemirror_mode": {
    "name": "ipython",
    "version": 3
   },
   "file_extension": ".py",
   "mimetype": "text/x-python",
   "name": "python",
   "nbconvert_exporter": "python",
   "pygments_lexer": "ipython3",
   "version": "3.12.1"
  }
 },
 "nbformat": 4,
 "nbformat_minor": 1
}
